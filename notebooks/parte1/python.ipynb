{
 "cells": [
  {
   "cell_type": "markdown",
   "metadata": {},
   "source": [
    "# 🚀 1 - Introdução ao Python\n",
    "Este notebook serve como uma referência prática ao **Python**. Vamos abordar conceitos fundamentais como:\n",
    "- Variáveis e tipos de dados\n",
    "- Estruturas de controle\n",
    "- Funções\n",
    "- Manipulação de **NumPy** para trabalhar com matrizes"
   ]
  },
  {
   "cell_type": "code",
   "execution_count": 3,
   "metadata": {},
   "outputs": [],
   "source": [
    "import numpy as np"
   ]
  },
  {
   "cell_type": "markdown",
   "metadata": {},
   "source": [
    "###  1.1 Variáveis e Tipos de Dados\n",
    "O Python é uma linguagem **dinâmica**, o que significa que você pode armazenar diferentes tipos de dados em variáveis sem precisar especificar o tipo."
   ]
  },
  {
   "cell_type": "code",
   "execution_count": 4,
   "metadata": {},
   "outputs": [
    {
     "name": "stdout",
     "output_type": "stream",
     "text": [
      "Variáveis: 10 5.5 Olá, Mundo! [1, 2, 3, 4, 5]\n"
     ]
    }
   ],
   "source": [
    "x = 10  # Inteiro\n",
    "y = 5.5  # Float\n",
    "texto = \"Olá, Mundo!\"  # String\n",
    "lista = [1, 2, 3, 4, 5]  # Lista\n",
    "\n",
    "print(\"Variáveis:\", x, y, texto, lista)"
   ]
  },
  {
   "cell_type": "markdown",
   "metadata": {},
   "source": [
    "###  1.2 Estruturas de Controle\n",
    "Python permite usar **loops** e **condicionais** para controlar o fluxo do programa."
   ]
  },
  {
   "cell_type": "code",
   "execution_count": 5,
   "metadata": {},
   "outputs": [
    {
     "name": "stdout",
     "output_type": "stream",
     "text": [
      "Número ímpar\n",
      "0\n",
      "1\n",
      "2\n",
      "3\n",
      "4\n"
     ]
    }
   ],
   "source": [
    "# Estrutura condicional\n",
    "num = 7\n",
    "if num % 2 == 0:\n",
    "    print(\"Número par\")\n",
    "else:\n",
    "    print(\"Número ímpar\")\n",
    "\n",
    "# Loop for\n",
    "for i in range(5):\n",
    "    print(i)"
   ]
  },
  {
   "cell_type": "markdown",
   "metadata": {},
   "source": [
    "###  1.3 Funções em Python\n",
    "Funções são blocos reutilizáveis de código que ajudam a organizar programas."
   ]
  },
  {
   "cell_type": "code",
   "execution_count": 6,
   "metadata": {},
   "outputs": [
    {
     "name": "stdout",
     "output_type": "stream",
     "text": [
      "Olá, Alice!\n"
     ]
    }
   ],
   "source": [
    "def saudacao(nome):\n",
    "    return f\"Olá, {nome}!\"\n",
    "\n",
    "print(saudacao(\"Alice\"))"
   ]
  },
  {
   "cell_type": "markdown",
   "metadata": {},
   "source": [
    "### 1.4 Introdução a classe"
   ]
  },
  {
   "cell_type": "code",
   "execution_count": 7,
   "metadata": {},
   "outputs": [
    {
     "name": "stdout",
     "output_type": "stream",
     "text": [
      "Item \"Teclado\" adicionado ao estoque.\n",
      "Item \"Mouse\" adicionado ao estoque.\n",
      "Item \"Monitor\" adicionado ao estoque.\n",
      "Itens no estoque:\n",
      "1. Teclado\n",
      "2. Mouse\n",
      "3. Monitor\n"
     ]
    }
   ],
   "source": [
    "class Estoque:\n",
    "    def __init__(self):\n",
    "        \"\"\"Inicializa o estoque como uma lista vazia.\"\"\"\n",
    "        self.itens = []\n",
    "\n",
    "    def adicionar_item(self, item):\n",
    "        \"\"\"Adiciona um item ao estoque.\"\"\"\n",
    "        self.itens.append(item)\n",
    "        print(f'Item \"{item}\" adicionado ao estoque.')\n",
    "\n",
    "    def listar_itens(self):\n",
    "        \"\"\"Lista todos os itens no estoque.\"\"\"\n",
    "        if self.itens:\n",
    "            print(\"Itens no estoque:\")\n",
    "            for i, item in enumerate(self.itens, 1):\n",
    "                print(f\"{i}. {item}\")\n",
    "        else:\n",
    "            print(\"O estoque está vazio.\")\n",
    "\n",
    "# Testando a classe\n",
    "estoque = Estoque()\n",
    "estoque.adicionar_item(\"Teclado\")\n",
    "estoque.adicionar_item(\"Mouse\")\n",
    "estoque.adicionar_item(\"Monitor\")\n",
    "\n",
    "estoque.listar_itens()\n"
   ]
  },
  {
   "cell_type": "markdown",
   "metadata": {},
   "source": [
    "### 🎯 Conclusão\n",
    "\n",
    "Neste notebook, exploramos **conceitos fundamentais de Python** e **NumPy**, incluindo manipulação de matrizes e aplicações matemáticas. 🚀\n",
    "\n",
    "Experimente modificar os códigos e visualizar os resultados!"
   ]
  }
 ],
 "metadata": {
  "kernelspec": {
   "display_name": "Python 3",
   "language": "python",
   "name": "python3"
  },
  "language_info": {
   "name": "python",
   "version": "3.x"
  }
 },
 "nbformat": 4,
 "nbformat_minor": 2
}
