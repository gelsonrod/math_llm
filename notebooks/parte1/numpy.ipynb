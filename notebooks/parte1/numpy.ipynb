{
 "cells": [
  {
   "cell_type": "markdown",
   "metadata": {},
   "source": [
    "# 🧮 2 - Introdução NumPy"
   ]
  },
  {
   "cell_type": "markdown",
   "metadata": {},
   "source": [
    "###  2.1 Introdução ao NumPy e Matrizes\n",
    "O **NumPy** é uma biblioteca essencial para computação numérica em Python, especialmente útil para trabalhar com **arrays e álgebra linear**."
   ]
  },
  {
   "cell_type": "code",
   "execution_count": 8,
   "metadata": {},
   "outputs": [
    {
     "name": "stdout",
     "output_type": "stream",
     "text": [
      "Array NumPy: [1 2 3 4 5]\n"
     ]
    }
   ],
   "source": [
    "# Criando um array NumPy\n",
    "arr = np.array([1, 2, 3, 4, 5])\n",
    "print(\"Array NumPy:\", arr)"
   ]
  },
  {
   "cell_type": "markdown",
   "metadata": {},
   "source": [
    "###  5. Criando Matrizes com NumPy\n",
    "Podemos representar **matrizes** utilizando arrays bidimensionais do NumPy."
   ]
  },
  {
   "cell_type": "code",
   "execution_count": 9,
   "metadata": {},
   "outputs": [
    {
     "name": "stdout",
     "output_type": "stream",
     "text": [
      "Matriz dos filmes:\n",
      " [[5 2 7]\n",
      " [1 5 3]\n",
      " [2 1 5]]\n"
     ]
    }
   ],
   "source": [
    "A = np.array([\n",
    "    [5, 2, 7],  # Transformers\n",
    "    [1, 5, 3],  # Superbad\n",
    "    [2, 1, 5]   # Interestelar\n",
    "])\n",
    "\n",
    "print(\"Matriz dos filmes:\\n\", A)"
   ]
  },
  {
   "cell_type": "markdown",
   "metadata": {},
   "source": [
    "###  6. Operações com Matrizes\n",
    "NumPy permite realizar **adição, multiplicação e inversão** de matrizes facilmente."
   ]
  },
  {
   "cell_type": "code",
   "execution_count": 10,
   "metadata": {},
   "outputs": [
    {
     "name": "stdout",
     "output_type": "stream",
     "text": [
      "Matriz Transposta:\n",
      " [[5 1 2]\n",
      " [2 5 1]\n",
      " [7 3 5]]\n",
      "Recomendação de filmes baseada no usuário:\n",
      " [39 34 21]\n",
      "Determinante da matriz A: 48.99999999999999\n"
     ]
    }
   ],
   "source": [
    "# Transposição da matriz\n",
    "A_transposta = A.T\n",
    "print(\"Matriz Transposta:\\n\", A_transposta)\n",
    "\n",
    "# Multiplicação de matriz por vetor\n",
    "usuario = np.array([3, 5, 2])\n",
    "recomendacao = A @ usuario\n",
    "print(\"Recomendação de filmes baseada no usuário:\\n\", recomendacao)\n",
    "\n",
    "# Determinante da matriz\n",
    "det_A = np.linalg.det(A)\n",
    "print(\"Determinante da matriz A:\", det_A)"
   ]
  },
  {
   "cell_type": "markdown",
   "metadata": {},
   "source": [
    "###  7. Visualização de Matrizes\n",
    "Para melhorar a compreensão das matrizes, podemos criar um **mapa de calor** usando `matplotlib`."
   ]
  },
  {
   "cell_type": "code",
   "execution_count": 12,
   "metadata": {},
   "outputs": [
    {
     "data": {
      "image/png": "[encoded data removed]",
      "text/plain": [
       "<Figure size 640x480 with 1 Axes>"
      ]
     },
     "metadata": {},
     "output_type": "display_data"
    }
   ],
   "source": [
    "import matplotlib.pyplot as plt\n",
    "\n",
    "fig, ax = plt.subplots()\n",
    "ax.matshow(A, cmap=\"coolwarm\")\n",
    "for i in range(A.shape[0]):\n",
    "    for j in range(A.shape[1]):\n",
    "        ax.text(j, i, str(A[i, j]), ha='center', va='center', color=\"black\")\n",
    "\n",
    "plt.xlabel(\"Gêneros\")\n",
    "plt.ylabel(\"Filmes\")\n",
    "plt.title(\"Representação da Matriz de Filmes\")\n",
    "plt.show()"
   ]
  },
  {
   "cell_type": "markdown",
   "metadata": {},
   "source": [
    "### 🎯 Conclusão\n",
    "\n",
    "Neste notebook, exploramos **conceitos fundamentais de Python** e **NumPy**, incluindo manipulação de matrizes e aplicações matemáticas. 🚀\n",
    "\n",
    "Experimente modificar os códigos e visualizar os resultados!"
   ]
  }
 ],
 "metadata": {
  "kernelspec": {
   "display_name": "Python 3",
   "language": "python",
   "name": "python3"
  },
  "language_info": {
   "name": "python",
   "version": "3.x"
  }
 },
 "nbformat": 4,
 "nbformat_minor": 2
}
